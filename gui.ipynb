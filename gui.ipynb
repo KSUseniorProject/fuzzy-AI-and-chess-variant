{
 "metadata": {
  "language_info": {
   "codemirror_mode": {
    "name": "ipython",
    "version": 3
   },
   "file_extension": ".py",
   "mimetype": "text/x-python",
   "name": "python",
   "nbconvert_exporter": "python",
   "pygments_lexer": "ipython3",
   "version": "3.8.6-final"
  },
  "orig_nbformat": 2,
  "kernelspec": {
   "name": "Python 3.8.6 64-bit",
   "display_name": "Python 3.8.6 64-bit",
   "metadata": {
    "interpreter": {
     "hash": "39a05fb06591fa74167934699aa4a9f9e72486cc3c3a5b38601ea635d0e66d59"
    }
   }
  }
 },
 "nbformat": 4,
 "nbformat_minor": 2,
 "cells": [
  {
   "cell_type": "code",
   "execution_count": 44,
   "metadata": {},
   "outputs": [],
   "source": [
    "import chess\n",
    "import chess.svg\n",
    "import random\n",
    "from tkinter import *\n",
    "from svglib.svglib import svg2rlg\n",
    "from reportlab.graphics import renderPDF, renderPM\n",
    "from PIL import Image, ImageTk, PngImagePlugin"
   ]
  },
  {
   "cell_type": "code",
   "execution_count": 45,
   "metadata": {},
   "outputs": [],
   "source": [
    "board_coord = [\"A8\",\"B8\",\"C8\",\"D8\",\"E8\",\"F8\",\"G8\",\"H8\"],[\"A7\",\"B7\",\"C7\",\"D7\",\"E7\",\"F7\",\"G7\",\"H7\"],[\"A6\",\"B6\",\"C6\",\"D6\",\"E6\",\"F6\",\"G6\",\"H6\"],[\"A5\",\"B5\",\"C5\",\"D5\",\"E5\",\"F5\",\"G5\",\"H5\"],[\"A4\",\"B4\",\"C4\",\"D4\",\"E4\",\"F4\",\"G4\",\"H4\"],[\"A3\",\"B3\",\"C3\",\"D3\",\"E3\",\"F3\",\"G3\",\"H3\"],[\"A2\",\"B2\",\"C2\",\"D2\",\"E2\",\"F2\",\"G2\",\"H2\"],[\"A1\",\"B1\",\"C1\",\"D1\",\"E1\",\"F1\",\"G1\",\"H1\"]\n",
    "\n",
    "cur_piece = \"\"\n",
    "move_to = \"\""
   ]
  },
  {
   "cell_type": "code",
   "execution_count": 46,
   "metadata": {},
   "outputs": [],
   "source": [
    "def get_svg(svg_file) :\n",
    "\tdrawing = svg2rlg(svg_file)\n",
    "\trenderPM.drawToFile(drawing, \"tmp.png\", fmt=\"PNG\")"
   ]
  },
  {
   "cell_type": "code",
   "execution_count": 47,
   "metadata": {},
   "outputs": [],
   "source": [
    "def select_piece(event) :               # shows available attacks/moves, pawns only show attacks\n",
    "\tglobal cur_piece,move_to\n",
    "\tx_coord = event.x\n",
    "\ty_coord = event.y\n",
    "\tx_coord -= 31\n",
    "\ty_coord -= 31\n",
    "\tx = x_coord / 92\n",
    "\ty = y_coord / 92\n",
    "\tcur_piece = board_coord[int(y)][int(x)]\n",
    "\tsquares = board.attacks(getattr(chess,cur_piece))\n",
    "\tdraw_board(squares)"
   ]
  },
  {
   "source": [
    "def move_piece(event) :\n",
    "    global cur_piece,move_to\n",
    "    x_coord = event.x\n",
    "    y_coord = event.y\n",
    "    x_coord -= 31\n",
    "    y_coord -= 31\n",
    "    x = x_coord / 92\n",
    "    y = y_coord / 92\n",
    "    move_to = board_coord[int(y)][int(x)]\n",
    "    squares = \"\"\n",
    "    move_uci = cur_piece + move_to\n",
    "    my_move = chess.Move.from_uci(move_uci.lower())\n",
    "    if (my_move in board.legal_moves) :\n",
    "        board.push(my_move)\n",
    "        draw_board(squares)\n",
    "#        if (chess.Board.is_checkmate() or chess.Board.is_stalemate()) :\t\t# not working, implementing later\n",
    "#            img = Image.open(\"game_over.png\")\n",
    "#            cur_board = ImageTk.PhotoImage(img)\n",
    "#            panel.config(image=cur_board)\n",
    "#            panel(image=cur_board)          # Removing this line will garbage-collect the image and break the game, so the \t\t                                        # error has to stay\n",
    "    else :\n",
    "        print(\"!!!!!!!!!!!!!!!!!\\nILLEGAL MOVE\\n!!!!!!!!!!!!!!!!!\")"
   ],
   "cell_type": "code",
   "metadata": {},
   "execution_count": 48,
   "outputs": []
  },
  {
   "cell_type": "code",
   "execution_count": 49,
   "metadata": {},
   "outputs": [],
   "source": [
    "def roll_die() :                        # returns \n",
    "    roll_list = []\n",
    "    counter = 6\n",
    "    while (counter > 0) :\n",
    "        rand_num = random.randint(1,6)\n",
    "        roll_list.append(rand_num)\n",
    "        counter -= 1\n",
    "    if (roll_list[5] > 3) :\n",
    "        return false\n",
    "    else :\n",
    "        return true"
   ]
  },
  {
   "cell_type": "code",
   "execution_count": 50,
   "metadata": {},
   "outputs": [],
   "source": [
    "def draw_board(squares) :\n",
    "    f = open (\"tmp.svg\",\"w\")\n",
    "    f.write(chess.svg.board(board, squares=squares, size=800))\n",
    "    f.close\t\n",
    "    get_svg(\"tmp.svg\")\n",
    "    img = Image.open(\"tmp.png\")\n",
    "    cur_board = ImageTk.PhotoImage(img)\n",
    "    panel.config(image=cur_board)\n",
    "    panel(image=cur_board)              # Removing this line will garbage-collect the image and break the game, so the                                              # error has to stay"
   ]
  },
  {
   "cell_type": "code",
   "execution_count": 51,
   "metadata": {
    "tags": []
   },
   "outputs": [
    {
     "output_type": "error",
     "ename": "TclError",
     "evalue": "image \"pyimage6\" doesn't exist",
     "traceback": [
      "\u001b[1;31m---------------------------------------------------------------------------\u001b[0m",
      "\u001b[1;31mTclError\u001b[0m                                  Traceback (most recent call last)",
      "\u001b[1;32m<ipython-input-51-78b86c280f6d>\u001b[0m in \u001b[0;36m<module>\u001b[1;34m\u001b[0m\n\u001b[0;32m     12\u001b[0m \u001b[0mcur_board\u001b[0m \u001b[1;33m=\u001b[0m \u001b[0mImageTk\u001b[0m\u001b[1;33m.\u001b[0m\u001b[0mPhotoImage\u001b[0m\u001b[1;33m(\u001b[0m\u001b[0mimg\u001b[0m\u001b[1;33m)\u001b[0m\u001b[1;33m\u001b[0m\u001b[1;33m\u001b[0m\u001b[0m\n\u001b[0;32m     13\u001b[0m \u001b[0msize\u001b[0m \u001b[1;33m=\u001b[0m \u001b[0mimg\u001b[0m\u001b[1;33m.\u001b[0m\u001b[0msize\u001b[0m\u001b[1;33m\u001b[0m\u001b[1;33m\u001b[0m\u001b[0m\n\u001b[1;32m---> 14\u001b[1;33m \u001b[0mpanel\u001b[0m \u001b[1;33m=\u001b[0m \u001b[0mLabel\u001b[0m\u001b[1;33m(\u001b[0m\u001b[0mwindow\u001b[0m\u001b[1;33m,\u001b[0m \u001b[0mimage\u001b[0m\u001b[1;33m=\u001b[0m\u001b[0mcur_board\u001b[0m\u001b[1;33m)\u001b[0m\u001b[1;33m\u001b[0m\u001b[1;33m\u001b[0m\u001b[0m\n\u001b[0m\u001b[0;32m     15\u001b[0m \u001b[1;33m\u001b[0m\u001b[0m\n\u001b[0;32m     16\u001b[0m \u001b[0mpanel\u001b[0m\u001b[1;33m.\u001b[0m\u001b[0mbind\u001b[0m\u001b[1;33m(\u001b[0m\u001b[1;34m\"<Button-1>\"\u001b[0m\u001b[1;33m,\u001b[0m \u001b[0mselect_piece\u001b[0m\u001b[1;33m)\u001b[0m\u001b[1;33m\u001b[0m\u001b[1;33m\u001b[0m\u001b[0m\n",
      "\u001b[1;32mC:\\Program Files\\WindowsApps\\PythonSoftwareFoundation.Python.3.8_3.8.1776.0_x64__qbz5n2kfra8p0\\lib\\tkinter\\__init__.py\u001b[0m in \u001b[0;36m__init__\u001b[1;34m(self, master, cnf, **kw)\u001b[0m\n\u001b[0;32m   3141\u001b[0m \u001b[1;33m\u001b[0m\u001b[0m\n\u001b[0;32m   3142\u001b[0m         \"\"\"\n\u001b[1;32m-> 3143\u001b[1;33m         \u001b[0mWidget\u001b[0m\u001b[1;33m.\u001b[0m\u001b[0m__init__\u001b[0m\u001b[1;33m(\u001b[0m\u001b[0mself\u001b[0m\u001b[1;33m,\u001b[0m \u001b[0mmaster\u001b[0m\u001b[1;33m,\u001b[0m \u001b[1;34m'label'\u001b[0m\u001b[1;33m,\u001b[0m \u001b[0mcnf\u001b[0m\u001b[1;33m,\u001b[0m \u001b[0mkw\u001b[0m\u001b[1;33m)\u001b[0m\u001b[1;33m\u001b[0m\u001b[1;33m\u001b[0m\u001b[0m\n\u001b[0m\u001b[0;32m   3144\u001b[0m \u001b[1;33m\u001b[0m\u001b[0m\n\u001b[0;32m   3145\u001b[0m \u001b[1;33m\u001b[0m\u001b[0m\n",
      "\u001b[1;32mC:\\Program Files\\WindowsApps\\PythonSoftwareFoundation.Python.3.8_3.8.1776.0_x64__qbz5n2kfra8p0\\lib\\tkinter\\__init__.py\u001b[0m in \u001b[0;36m__init__\u001b[1;34m(self, master, widgetName, cnf, kw, extra)\u001b[0m\n\u001b[0;32m   2565\u001b[0m         \u001b[1;32mfor\u001b[0m \u001b[0mk\u001b[0m\u001b[1;33m,\u001b[0m \u001b[0mv\u001b[0m \u001b[1;32min\u001b[0m \u001b[0mclasses\u001b[0m\u001b[1;33m:\u001b[0m\u001b[1;33m\u001b[0m\u001b[1;33m\u001b[0m\u001b[0m\n\u001b[0;32m   2566\u001b[0m             \u001b[1;32mdel\u001b[0m \u001b[0mcnf\u001b[0m\u001b[1;33m[\u001b[0m\u001b[0mk\u001b[0m\u001b[1;33m]\u001b[0m\u001b[1;33m\u001b[0m\u001b[1;33m\u001b[0m\u001b[0m\n\u001b[1;32m-> 2567\u001b[1;33m         self.tk.call(\n\u001b[0m\u001b[0;32m   2568\u001b[0m             (widgetName, self._w) + extra + self._options(cnf))\n\u001b[0;32m   2569\u001b[0m         \u001b[1;32mfor\u001b[0m \u001b[0mk\u001b[0m\u001b[1;33m,\u001b[0m \u001b[0mv\u001b[0m \u001b[1;32min\u001b[0m \u001b[0mclasses\u001b[0m\u001b[1;33m:\u001b[0m\u001b[1;33m\u001b[0m\u001b[1;33m\u001b[0m\u001b[0m\n",
      "\u001b[1;31mTclError\u001b[0m: image \"pyimage6\" doesn't exist"
     ]
    }
   ],
   "source": [
    "window = Tk()\n",
    "window.title(\"AI Chess Variant\")\n",
    "window.geometry(\"900x800\")\n",
    "\n",
    "board = chess.Board(chess.STARTING_BOARD_FEN)\n",
    "\n",
    "f = open (\"tmp.svg\",\"w\")\n",
    "f.write(chess.svg.board(board, size=800))\n",
    "f.close\t\n",
    "get_svg(\"tmp.svg\")\n",
    "img = Image.open(\"tmp.png\")\n",
    "cur_board = ImageTk.PhotoImage(img)\n",
    "size = img.size\n",
    "panel = Label(window, image=cur_board)\n",
    "\n",
    "panel.bind(\"<Button-1>\", select_piece)\n",
    "panel.bind(\"<Button-3>\", move_piece)\n",
    "panel.pack()"
   ]
  },
  {
   "cell_type": "code",
   "execution_count": null,
   "metadata": {
    "tags": []
   },
   "outputs": [],
   "source": [
    "window.mainloop()"
   ]
  }
 ]
}