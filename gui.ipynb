{
 "metadata": {
  "language_info": {
   "codemirror_mode": {
    "name": "ipython",
    "version": 3
   },
   "file_extension": ".py",
   "mimetype": "text/x-python",
   "name": "python",
   "nbconvert_exporter": "python",
   "pygments_lexer": "ipython3",
   "version": "3.8.6-final"
  },
  "orig_nbformat": 2,
  "kernelspec": {
   "name": "Python 3.8.6 64-bit",
   "display_name": "Python 3.8.6 64-bit",
   "metadata": {
    "interpreter": {
     "hash": "39a05fb06591fa74167934699aa4a9f9e72486cc3c3a5b38601ea635d0e66d59"
    }
   }
  }
 },
 "nbformat": 4,
 "nbformat_minor": 2,
 "cells": [
  {
   "cell_type": "code",
   "execution_count": 11,
   "metadata": {},
   "outputs": [],
   "source": [
    "import chess\n",
    "import chess.svg\n",
    "import random\n",
    "from time import sleep\n",
    "from tkinter import *\n",
    "from svglib.svglib import svg2rlg\n",
    "from reportlab.graphics import renderPDF, renderPM\n",
    "from PIL import Image, ImageTk, PngImagePlugin"
   ]
  },
  {
   "cell_type": "code",
   "execution_count": 12,
   "metadata": {},
   "outputs": [],
   "source": [
    "board_coord = [[\"A8\",\"B8\",\"C8\",\"D8\",\"E8\",\"F8\",\"G8\",\"H8\"],\n",
    "               [\"A7\",\"B7\",\"C7\",\"D7\",\"E7\",\"F7\",\"G7\",\"H7\"],\n",
    "               [\"A6\",\"B6\",\"C6\",\"D6\",\"E6\",\"F6\",\"G6\",\"H6\"],\n",
    "               [\"A5\",\"B5\",\"C5\",\"D5\",\"E5\",\"F5\",\"G5\",\"H5\"],\n",
    "               [\"A4\",\"B4\",\"C4\",\"D4\",\"E4\",\"F4\",\"G4\",\"H4\"],\n",
    "               [\"A3\",\"B3\",\"C3\",\"D3\",\"E3\",\"F3\",\"G3\",\"H3\"],\n",
    "               [\"A2\",\"B2\",\"C2\",\"D2\",\"E2\",\"F2\",\"G2\",\"H2\"],\n",
    "               [\"A1\",\"B1\",\"C1\",\"D1\",\"E1\",\"F1\",\"G1\",\"H1\"]]\n",
    "cur_board = \"\"\n",
    "cur_piece = \"\"\n",
    "move_to = \"\"\n",
    "die_img = \"\"\n",
    "move_counter = \"0\""
   ]
  },
  {
   "cell_type": "code",
   "execution_count": 13,
   "metadata": {},
   "outputs": [],
   "source": [
    "def get_svg(svg_file) :\n",
    "\tdrawing = svg2rlg(svg_file)\n",
    "\trenderPM.drawToFile(drawing,\"tmp.png\",fmt=\"PNG\")"
   ]
  },
  {
   "cell_type": "code",
   "execution_count": 14,
   "metadata": {},
   "outputs": [],
   "source": [
    "def select_piece(event) :               # shows available attacks/moves, pawns only show attacks\n",
    "\tglobal cur_piece,move_to\n",
    "\tx_coord = event.x\n",
    "\ty_coord = event.y\n",
    "\tx_coord -= 31\n",
    "\ty_coord -= 31\n",
    "\tx = x_coord / 92\n",
    "\ty = y_coord / 92\n",
    "\tcur_piece = board_coord[int(y)][int(x)]\n",
    "\tsquares = board.attacks(getattr(chess,cur_piece))\n",
    "\tdraw_board(squares)"
   ]
  },
  {
   "source": [
    "def move_piece(event) :\n",
    "    global cur_piece,move_to,move_counter\n",
    "    x_coord = event.x\n",
    "    y_coord = event.y\n",
    "    x_coord -= 31\n",
    "    y_coord -= 31\n",
    "    x = x_coord / 92\n",
    "    y = y_coord / 92\n",
    "    move_to = board_coord[int(y)][int(x)]\n",
    "    squares = \"\"\n",
    "    move_uci = cur_piece + move_to\n",
    "    my_move = chess.Move.from_uci(move_uci.lower())\n",
    "    if (my_move in board.legal_moves) : \n",
    "#       if (chess.Board.is_capture(self,move=chess.Move(from_square=cur_piece,to_square=move_to))) :\n",
    "#            board.push(move=my_move)\n",
    "#            draw_board(squares)\n",
    "#            roll_die()\n",
    "#        else :\n",
    "            roll_die()\n",
    "            board.push(move=my_move)\n",
    "            draw_board(squares)\n",
    "#            move_counter += 1\n",
    "#            if (move_counter <= 3) :\n",
    "\n",
    "    else :\n",
    "        print(\"!!!!!!!!!!!!!!!!!\\nILLEGAL MOVE\\n!!!!!!!!!!!!!!!!!\")\n",
    "\n",
    "#    AI()\n",
    "\n",
    "# call roll_die() on attack\n",
    "\n",
    "#        if (chess.Board.is_checkmate() or chess.Board.is_stalemate()) :\t\t# not working, implementing later\n",
    "#            img = Image.open(\"game_over.png\")\n",
    "#            cur_board = ImageTk.PhotoImage(img)\n",
    "#            panel.config(image=cur_board)"
   ],
   "cell_type": "code",
   "metadata": {},
   "execution_count": 15,
   "outputs": []
  },
  {
   "cell_type": "code",
   "execution_count": null,
   "metadata": {},
   "outputs": [],
   "source": [
    "def AI() :\n",
    "    return"
   ]
  },
  {
   "cell_type": "code",
   "execution_count": 16,
   "metadata": {},
   "outputs": [],
   "source": [
    "def roll_die() :\n",
    "    global die_number,die_img\n",
    "    roll_list = []\n",
    "    counter = 6\n",
    "    rand_num = \"\"\n",
    "    while (counter > 0) :\n",
    "        rand_num = random.randint(1,6)\n",
    "        roll_list.append(rand_num)\n",
    "        counter -= 1\n",
    "        img = Image.open(\"{}.png\".format(rand_num))\n",
    "        die_img = ImageTk.PhotoImage(img)\n",
    "        die.config(image=die_img)\n",
    "        die.update()\n",
    "        sleep(.2)\n",
    "    img = Image.open(\"{}.png\".format(rand_num))\n",
    "    die_img = ImageTk.PhotoImage(img)\n",
    "    die.config(image=die_img)\n",
    "    die.update()\n",
    "    \n",
    "#    if (roll_list[5] > 3) :\n",
    "#        return true\n",
    "#    else :\n",
    "#        return false"
   ]
  },
  {
   "cell_type": "code",
   "execution_count": 17,
   "metadata": {},
   "outputs": [],
   "source": [
    "def draw_board(squares) :\n",
    "    f = open (\"tmp.svg\",\"w\")\n",
    "    f.write(chess.svg.board(board,squares=squares,size=800))\n",
    "    f.close\t\n",
    "    get_svg(\"tmp.svg\")\n",
    "    img = Image.open(\"tmp.png\")\n",
    "    cur_board = ImageTk.PhotoImage(img)\n",
    "    panel.config(image=cur_board)\n",
    "    panel.image=cur_board"
   ]
  },
  {
   "cell_type": "code",
   "execution_count": 18,
   "metadata": {},
   "outputs": [],
   "source": [
    "# graveyard images, determine dead character by comparing Board FENs"
   ]
  },
  {
   "cell_type": "code",
   "execution_count": 19,
   "metadata": {
    "tags": []
   },
   "outputs": [],
   "source": [
    "window = Tk()\n",
    "window.title(\"AI Chess Variant\")\n",
    "window.geometry(\"1200x900\")\n",
    "\n",
    "board = chess.Board(chess.STARTING_BOARD_FEN)\n",
    "\n",
    "die_number = StringVar()\n",
    "die_number.set(\"\")\n",
    "\n",
    "f = open (\"tmp.svg\",\"w\")\n",
    "f.write(chess.svg.board(board,size=800))\n",
    "f.close\t\n",
    "get_svg(\"tmp.svg\")\n",
    "img = Image.open(\"tmp.png\")\n",
    "cur_board = ImageTk.PhotoImage(img)\n",
    "\n",
    "panel = Label(window, image=cur_board)\n",
    "panel.bind(\"<Button-1>\",select_piece)\n",
    "panel.bind(\"<Button-3>\",move_piece)\n",
    "panel.pack()\n",
    "\n",
    "die = Label(window,image=\"\",height=50,width=50,font=(\"Arial\",50))\n",
    "die.pack()"
   ]
  },
  {
   "cell_type": "code",
   "execution_count": 20,
   "metadata": {
    "tags": []
   },
   "outputs": [],
   "source": [
    "window.mainloop()"
   ]
  }
 ]
}